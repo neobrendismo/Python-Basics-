{
  "cells": [
    {
      "cell_type": "markdown",
      "metadata": {
        "id": "DVEozxMjq4qT"
      },
      "source": [
        "## Introduzindo Operações Básicas com Tipos Numéricos e Booleanos"
      ]
    },
    {
      "cell_type": "markdown",
      "metadata": {
        "id": "k3RWYbNB5clO"
      },
      "source": [
        "1 - Compute a saída da seguinte expressão matemática sem realizar nenhuma simplificação:\n",
        "$ a^{2} + \\frac{3}{4} \\times b \\times 987(c - \\frac{10^{-9}}{\\sqrt{0.5^{3}}}) $. Assuma que os valores das variáveis a, b e c correpondam a 2, 4 e 8, respectivamente. Armazene o resultado em uma variável.\n",
        "\n",
        "Dica: consulte os operadores aritméticos disponíveis no Python. Utilize a biblioteca math para operação de raiz."
      ]
    },
    {
      "cell_type": "code",
      "execution_count": 2,
      "metadata": {
        "id": "Y6UcwvJw57MC",
        "outputId": "2e66b9fd-b22b-402b-f17c-e9cde28929ea",
        "colab": {
          "base_uri": "https://localhost:8080/"
        }
      },
      "outputs": [
        {
          "output_type": "execute_result",
          "data": {
            "text/plain": [
              "23691.999952624"
            ]
          },
          "metadata": {},
          "execution_count": 2
        }
      ],
      "source": [
        "a=2\n",
        "b=4\n",
        "c=8\n",
        "Resposta1= a**2 + ((3/4)*b*987*(c - (10**(-9)/((0.5**3)**1/2))))\n",
        "Resposta1"
      ]
    },
    {
      "cell_type": "markdown",
      "metadata": {
        "id": "YTUAjlIWVM6C"
      },
      "source": [
        "2 - Armazene em uma variável o resto da divisão da expressão anterior por 23691."
      ]
    },
    {
      "cell_type": "code",
      "execution_count": 3,
      "metadata": {
        "id": "hPB1-d0GVM_9",
        "outputId": "706f8aa0-1e12-4728-8e14-355b295f1b7b",
        "colab": {
          "base_uri": "https://localhost:8080/"
        }
      },
      "outputs": [
        {
          "output_type": "execute_result",
          "data": {
            "text/plain": [
              "0.9999526239989791"
            ]
          },
          "metadata": {},
          "execution_count": 3
        }
      ],
      "source": [
        "Resposta2=Resposta1%23691\n",
        "Resposta2"
      ]
    },
    {
      "cell_type": "markdown",
      "metadata": {
        "id": "Xddy2CmgIqzJ"
      },
      "source": [
        "3 - Cheque se a saída do resto da divisão é ***i) igual a 1***, ***ii) maior que 1***, ***iii) menor ou igual que 1*** e ***iv) diferente de 1***. Utilize a função *print* para exibir a saída de cada checagem. Consulte os operadores relacionais disponívels no Python."
      ]
    },
    {
      "cell_type": "code",
      "execution_count": 5,
      "metadata": {
        "id": "HfNOkdqdJMVG",
        "outputId": "cc1f5363-2fc4-47bc-d658-db45ef1d2be2",
        "colab": {
          "base_uri": "https://localhost:8080/"
        }
      },
      "outputs": [
        {
          "output_type": "stream",
          "name": "stdout",
          "text": [
            "i) Resposta2 ==1: False\n",
            "\n",
            "ii)Resposta2 >1 : False\n",
            "\n",
            "iii)Resposta2 <=1 : True\n",
            "\n",
            "iv)Resposta2 !=1 : True\n"
          ]
        }
      ],
      "source": [
        "print('i) Resposta2 ==1: {}'.format(Resposta2==1))\n",
        "print('\\nii)Resposta2 >1 : {}'.format(Resposta2>1))\n",
        "print('\\niii)Resposta2 <=1 : {}'.format(Resposta2<=1))\n",
        "print('\\niv)Resposta2 !=1 : {}'.format(Resposta2!=1))"
      ]
    },
    {
      "cell_type": "markdown",
      "metadata": {
        "id": "lqXrELgV-qoc"
      },
      "source": [
        "4 - Exiba a saída de operações booleanas do tipo **AND** e do tipo **OR** entre dois termos que apresentem valores: \n",
        "1. **verdadeiros**;\n",
        "2. **verdadeiro e falso**;\n",
        "3. **falsos**.\n",
        "\n",
        "Ao todo devem ser apresentadas seis operações."
      ]
    },
    {
      "cell_type": "code",
      "execution_count": 9,
      "metadata": {
        "id": "iwYPHG8zAzEx",
        "outputId": "a6cfcab8-22e2-4c16-b2d6-f521cc93ad3d",
        "colab": {
          "base_uri": "https://localhost:8080/"
        }
      },
      "outputs": [
        {
          "output_type": "stream",
          "name": "stdout",
          "text": [
            "\n",
            "1- [13 > 1] and [0 < 7] É: True e True\n",
            "\n",
            "2- [11 > 8]  E [0 == 7] É: True e False\n",
            "\n",
            "3- [8 > 13] or [0==7] É: False e False\n",
            "\n",
            "4- [7 > 12] or [0==6] É: False e False\n",
            "\n",
            "5- [10 > 9]  E [1 == 8] É: True e False\n",
            "\n",
            "6- [14 > 2] and [1 < 6] É: True e True\n"
          ]
        }
      ],
      "source": [
        "print('\\n1- [13 > 1] and [0 < 7] É:',13 > 1, 'e', 0 < 7)\n",
        "print('\\n2- [11 > 8]  E [0 == 7] É:',11>8,'e',0 == 7)\n",
        "print('\\n3- [8 > 13] or [0==7] É:',8 > 13 ,'e', 0 == 7)\n",
        "print('\\n4- [7 > 12] or [0==6] É:',7 > 12 ,'e', 0 == 6)\n",
        "print('\\n5- [10 > 9]  E [1 == 8] É:',10>9,'e',1 == 8)\n",
        "print('\\n6- [14 > 2] and [1 < 6] É:',14 > 2, 'e', 1 < 6)\n"
      ]
    },
    {
      "cell_type": "markdown",
      "metadata": {
        "id": "OhCPDEUc6INz"
      },
      "source": [
        "5 - Escreva a seguinte expressão booleana **(A + B) . (¬B . A)**. Considere que \"+\" indica uma operação  OR; \".\" indica uma operação AND e ''¬'' indica uma operação de negação (NOT). Defina previamente a variávei *A* com valor verdadeiro e a variávei *B* com valor falso."
      ]
    },
    {
      "cell_type": "code",
      "source": [
        "A=8+1==9 # True\n",
        "B=3-1>4  # False\n",
        "\n",
        "Resposta_5 = (A or B) and (not B or A)\n",
        "Resposta_5 "
      ],
      "metadata": {
        "colab": {
          "base_uri": "https://localhost:8080/"
        },
        "id": "pEaq_nisOfHV",
        "outputId": "d11e9cc4-1955-4d63-b69c-3db4596d132b"
      },
      "execution_count": 14,
      "outputs": [
        {
          "output_type": "execute_result",
          "data": {
            "text/plain": [
              "True"
            ]
          },
          "metadata": {},
          "execution_count": 14
        }
      ]
    },
    {
      "cell_type": "markdown",
      "metadata": {
        "id": "WrAa05rZ-qxj"
      },
      "source": [
        "6 - Cheque se a saída da expressão booleana da questão imediatamente anterior é falsa."
      ]
    },
    {
      "cell_type": "code",
      "execution_count": 16,
      "metadata": {
        "id": "vJY1q4-_0X6B",
        "outputId": "10c1bff5-6c21-4f04-b074-0f1cbed8126f",
        "colab": {
          "base_uri": "https://localhost:8080/"
        }
      },
      "outputs": [
        {
          "output_type": "stream",
          "name": "stdout",
          "text": [
            "A saída da expressão booleana imediatamente anterior é : True\n"
          ]
        }
      ],
      "source": [
        "print(\"A saída da expressão booleana imediatamente anterior é : {}\". format(Resposta_5))\n"
      ]
    },
    {
      "cell_type": "markdown",
      "metadata": {
        "id": "WqIZVzrCpuqp"
      },
      "source": [
        "## Introduzindo Operações com Strings\n",
        "\n",
        "Dica: você pode utilizar a função *help(arg)* para visualizar os métodos que podem ser acessados a partir de uma variável de um tipo qualquer.\n",
        "\n",
        "Segue abaixo alguns exemplos:\n",
        "\n",
        "```\n",
        "# Exemplo usando como argumento a função que representa o tipo de dado\n",
        "help(str)\n",
        "\n",
        "# Exemplo usando uma variavel qualquer\n",
        "a = \"teste\"\n",
        "help(a)\n",
        "\n",
        "# Exemplo utilizando uma variavel do tipo dicionário\n",
        "dicionario = {\"chave\":\"valor\"}\n",
        "help(dicionario)\n",
        "\n",
        "```\n",
        "\n"
      ]
    },
    {
      "cell_type": "markdown",
      "metadata": {
        "id": "V_Du1ew3MXy8"
      },
      "source": [
        "7 - Defina uma variável com o valor \"hello wORld\". Utilize as funções de string do Python para reproduzir as seguintes saídas: \"Hello World\", \"hello world\", \"HELLO WORLD\".  Dica: para visualizar as funções disponíveis digite em uma célula de código `'str' ` e em seguida tecle tab.\n"
      ]
    },
    {
      "cell_type": "code",
      "execution_count": 17,
      "metadata": {
        "id": "tRPJVsT0tbsh",
        "outputId": "163699b0-9016-43a2-9b43-a9ed11bef46f",
        "colab": {
          "base_uri": "https://localhost:8080/"
        }
      },
      "outputs": [
        {
          "output_type": "stream",
          "name": "stdout",
          "text": [
            "Hello World\n",
            "hello world\n",
            "HELLO WORLD\n"
          ]
        }
      ],
      "source": [
        "a = \"hello wORld\"\n",
        "print(a.title())\n",
        "print(a.lower())\n",
        "print(a.upper())\n"
      ]
    },
    {
      "cell_type": "markdown",
      "metadata": {
        "id": "-x6qgUMjN4Po"
      },
      "source": [
        "8 - Dada a seguinte frase \" *Esse é o seu primeiro tweet.* \", remova os espaços em branco das extremidades. Em seguida, substitua a palavra *'primeiro'* por *'segundo'*. \n",
        "\n",
        "\n",
        "\n",
        "**Observação:** a operação para remoção de espaços não atua em um modo '*in-place*', isto é, não altera diretamente o objeto, apenas retorna uma cópia modificada que pode ser armazenada em uma variável. A seguir, pode-se conferir um exemplo de uma operação que não é in-place e requer que assinalemos uma variável para receber a modificação. "
      ]
    },
    {
      "cell_type": "code",
      "source": [
        "# EXEMPLO: operação que não atua em modo 'in-place'\n",
        "\n",
        "a = 'teste'\n",
        "\n",
        "# primeiro caso\n",
        "a.replace('ste', 'sta')\n",
        "print(a)\n",
        "\n",
        "# segundo caso\n",
        "a = a.replace('ste', 'sta')\n",
        "print(a)"
      ],
      "metadata": {
        "colab": {
          "base_uri": "https://localhost:8080/"
        },
        "id": "JP-cHOeZQ-rp",
        "outputId": "5f414ae3-7644-4f12-c158-4ebee271da6e"
      },
      "execution_count": 18,
      "outputs": [
        {
          "output_type": "stream",
          "name": "stdout",
          "text": [
            "teste\n",
            "testa\n"
          ]
        }
      ]
    },
    {
      "cell_type": "code",
      "execution_count": 27,
      "metadata": {
        "id": "FStrq8MgO-w1",
        "scrolled": true,
        "outputId": "8c465232-74f2-48fb-d142-0bef7a8bee16",
        "colab": {
          "base_uri": "https://localhost:8080/"
        }
      },
      "outputs": [
        {
          "output_type": "stream",
          "name": "stdout",
          "text": [
            "\n",
            "1 -   Esse é o seu primeiro tweet. \n",
            "\n",
            "2 -  Esse é o seu primeiro tweet.\n",
            "\n",
            "1 -  Esse é o seu segundo tweet.\n"
          ]
        }
      ],
      "source": [
        "a =' Esse é o seu primeiro tweet. '\n",
        "print((\"\\n1 - \"),(a))\n",
        "\n",
        "# primeiro caso\n",
        "b= a.strip()\n",
        "print((\"\\n2 - \"),(b))\n",
        "\n",
        "# segundo caso\n",
        "c = (a.strip()).replace('primeiro', 'segundo')\n",
        "print((\"\\n1 - \"),(c))\n"
      ]
    },
    {
      "cell_type": "markdown",
      "metadata": {
        "id": "-hy5Hx4mjKpZ"
      },
      "source": [
        "9 - Fazendo uso do resultado da questão anterior, exiba a quantidade de ocorrências da palavra *'segundo'* e em seguida a quantidade de caracteres *'s'*."
      ]
    },
    {
      "cell_type": "code",
      "execution_count": 29,
      "metadata": {
        "id": "2bqwnWxo2brg",
        "outputId": "a9b0e3a7-ecd0-4d00-ae63-5d7ea7a086bd",
        "colab": {
          "base_uri": "https://localhost:8080/"
        }
      },
      "outputs": [
        {
          "output_type": "stream",
          "name": "stdout",
          "text": [
            "O total de ocorrencias do texto:\"segundo\"= 1, e de \"s\"=: 4\n"
          ]
        }
      ],
      "source": [
        "a='Esse é o seu segundo tweet.'\n",
        "ocorrencia1=a.count(\"segundo\")\n",
        "ocorrencia2=a.count(\"s\")\n",
        "print( 'O total de ocorrencias do texto:\"segundo\"= {}, e de \"s\"=: {}'.format(ocorrencia1,ocorrencia2))"
      ]
    },
    {
      "cell_type": "markdown",
      "metadata": {
        "id": "Ah4Io41N3q5w"
      },
      "source": [
        "10 - Concatene duas variáveis do tipo strings com valores arbitrários e exiba o resultado.\n",
        "\n",
        "**Observação:** A string resultante deve possuir no mínimo quatro caracteres."
      ]
    },
    {
      "cell_type": "code",
      "execution_count": 33,
      "metadata": {
        "id": "VQklMBD-2agi",
        "outputId": "a0b8fecc-4d31-47e4-85bb-43518ca429f6",
        "colab": {
          "base_uri": "https://localhost:8080/",
          "height": 35
        }
      },
      "outputs": [
        {
          "output_type": "execute_result",
          "data": {
            "text/plain": [
              "'Exercício Python: Parte 01-A-B.'"
            ],
            "application/vnd.google.colaboratory.intrinsic+json": {
              "type": "string"
            }
          },
          "metadata": {},
          "execution_count": 33
        }
      ],
      "source": [
        "a=\"Exercício Python:\"\n",
        "b=\" Parte 01-A-B.\"\n",
        "c=(a+b)\n",
        "c"
      ]
    },
    {
      "cell_type": "markdown",
      "metadata": {
        "id": "-8Oy9MrNDJPV"
      },
      "source": [
        "11 - Utilize a indexação e exiba apenas do segundo ao quarto caractere da variável do tipo string resultante questão imediatamente anterior."
      ]
    },
    {
      "cell_type": "code",
      "execution_count": 34,
      "metadata": {
        "id": "1qQLmrNrDXmM",
        "outputId": "4a306044-45b1-40d0-9a42-40ed387c5bb6",
        "colab": {
          "base_uri": "https://localhost:8080/"
        }
      },
      "outputs": [
        {
          "output_type": "stream",
          "name": "stdout",
          "text": [
            "xerc\n"
          ]
        }
      ],
      "source": [
        "print(c[1:5])"
      ]
    },
    {
      "cell_type": "markdown",
      "metadata": {
        "id": "KsBiozVOxEEF"
      },
      "source": [
        "12 - Exiba a string \"Mensagem: \" seguida pela string armazenada na variável *msg* definida abaixo. Dica: utilize a função format()."
      ]
    },
    {
      "cell_type": "code",
      "execution_count": 35,
      "metadata": {
        "id": "nRqtTDFTxDuL",
        "outputId": "50abc52e-06e6-431e-a4e3-5a55914dff32",
        "colab": {
          "base_uri": "https://localhost:8080/"
        }
      },
      "outputs": [
        {
          "output_type": "stream",
          "name": "stdout",
          "text": [
            " Mensagem: \"This is your first tweet.\"\n"
          ]
        }
      ],
      "source": [
        "msg = \"This is your first tweet.\"\n",
        "# Insira a resposta abaixo.\n",
        "print(' Mensagem: \"{}\"'.format(msg))\n"
      ]
    },
    {
      "cell_type": "markdown",
      "metadata": {
        "id": "6afUv7-Q8XRT"
      },
      "source": [
        "13  - Reproduza as próximas três mensagens a partir das variáveis definidas na célula de código."
      ]
    },
    {
      "cell_type": "markdown",
      "metadata": {
        "id": "j4__WoXI_XGe"
      },
      "source": [
        "**Mensagem**: Definir uma string com três aspas simples permite construir textos com quebra de linha automática."
      ]
    },
    {
      "cell_type": "code",
      "execution_count": 39,
      "metadata": {
        "id": "Iluu-cdN_WSD",
        "outputId": "679189a5-5d05-410b-cf66-feb10ac34dc4",
        "colab": {
          "base_uri": "https://localhost:8080/"
        }
      },
      "outputs": [
        {
          "output_type": "stream",
          "name": "stdout",
          "text": [
            "Definir uma string com três aspas simples permite construir textos com quebra de linha automática.\n"
          ]
        }
      ],
      "source": [
        "tipo_var = \"string\"\n",
        "qtd = \"três\"\n",
        "# Insira a resposta abaixo.\n",
        "print(\"Definir uma {} com {} aspas simples permite construir textos com quebra de linha automática.\".format(tipo_var, qtd))\n"
      ]
    },
    {
      "cell_type": "markdown",
      "metadata": {
        "id": "9bj-p6aVAYSF"
      },
      "source": [
        "**Mensagem**:  O número pi é aproximadamente 3.14"
      ]
    },
    {
      "cell_type": "code",
      "execution_count": 40,
      "metadata": {
        "id": "cUJ1s40-8UIu",
        "outputId": "995bfa0b-22fa-4e01-f02b-fc795e0c600a",
        "colab": {
          "base_uri": "https://localhost:8080/"
        }
      },
      "outputs": [
        {
          "output_type": "stream",
          "name": "stdout",
          "text": [
            "O número pi é aproximadamente 3.14159\n"
          ]
        }
      ],
      "source": [
        "pi = 3.14159\n",
        "# Insira a resposta abaixo.\n",
        "print('''O número pi é aproximadamente {}'''.format(pi))"
      ]
    },
    {
      "cell_type": "markdown",
      "metadata": {
        "id": "pkdZ39rrhx4q"
      },
      "source": [
        "**Mensagem**: O meu nome é [*receber string via input*] e eu tenho [*receber inteiro via input*] anos."
      ]
    },
    {
      "cell_type": "code",
      "execution_count": 42,
      "metadata": {
        "id": "8ukjvm0ghyD1",
        "outputId": "81805741-1320-42af-e3a4-4e89df1ee790",
        "colab": {
          "base_uri": "https://localhost:8080/"
        }
      },
      "outputs": [
        {
          "output_type": "stream",
          "name": "stdout",
          "text": [
            "informe o nome: brenda\n",
            "\n",
            "informe idade: 26\n",
            "\n",
            "O meu nome é brenda e eu tenho 26 anos.\n"
          ]
        }
      ],
      "source": [
        "nome=input('informe o nome: ')\n",
        "idade=int(input('\\ninforme idade: '))\n",
        "print('\\nO meu nome é {} e eu tenho {} anos.'.format(nome,idade))"
      ]
    },
    {
      "cell_type": "markdown",
      "metadata": {
        "id": "WKfYhv8Cqr4u"
      },
      "source": [
        "## Introduzindo Estruturas de Dados\n",
        "\n",
        "Nessa sessão serão exploradas as estruturas de dados do tipo lista, tupla e dicionário. Para realizar os exercícios abaixos baseados em listas podem ser utilizados métodos como *sum(arg), extend(), reverse(), append(), insert(index, element), sort()*."
      ]
    },
    {
      "cell_type": "markdown",
      "metadata": {
        "id": "jdd5yFSNrljL"
      },
      "source": [
        "### Listas "
      ]
    },
    {
      "cell_type": "markdown",
      "metadata": {
        "id": "NUOrqskrkZdF"
      },
      "source": [
        "14 - Realize as seguintes operações:\n",
        "\n",
        "\n",
        "1. Crie uma lista vazia.\n",
        "2. Adicione três elementos do tipo inteiro ao final da lista (*o método para adição de novos elementos em uma lista atua de forma in-place, portanto, basta invocá-lo.*).\n",
        "3. Adicione um novo elemento na segunda posição da lista (*método in-place).\n",
        "4. Exiba a soma dos quatro elementos (*python já possui uma função built-in para esssa operação*.)\n",
        "5. Re-assinale o elemento da terceiro posição com um valor do tipo float.\n",
        "6. Repita o passo 4.\n",
        "7. Inverta os elementos da lista atual. (*função para inversão é in-place*)\n",
        "8. Re-ordene os elementos da lista.\n",
        "9. Armazene uma nova lista em uma variável qualquer com 2 números inteiros.\n",
        "10. Concatena a nova lista criada com a lista resultante do passo 7.\n",
        "11. Exiba o valor máximo e mínimo da resultante do passo anterior.\n"
      ]
    },
    {
      "cell_type": "code",
      "execution_count": 43,
      "metadata": {
        "id": "j0dEQqkLkeud",
        "outputId": "f3fcad55-035c-46df-86b6-239b613695a6",
        "colab": {
          "base_uri": "https://localhost:8080/"
        }
      },
      "outputs": [
        {
          "output_type": "stream",
          "name": "stdout",
          "text": [
            "1-Lista vazia:_ []\n",
            "\n",
            "2-Lista com 03 elementos:_ [9, 45, 55]\n",
            "\n",
            "3-Lista com novo elemento na segunda posição:_ [9, 18, 45, 55]\n",
            "\n",
            "4-Soma dos 04 elementos da lista:_ 127\n",
            "\n",
            "5-Novo terceiro elemento tipo float:_ [9, 18, 45.5, 55]\n",
            "\n",
            "6-Soma dos 04 elementos atuais da lista:_ 127.5\n",
            "\n",
            "7-Inverter ordem dos elementos da lista:_ [55, 45.5, 18, 9]\n",
            "\n",
            "8-Reordenar dos elementos da lista:_ [9, 18, 45.5, 55]\n",
            "\n",
            "9-Nova lista com 02 elementos inteiros:_ [8, 14]\n",
            "\n",
            "10-Lista nova com a adição da anterior e nova lista:_ [9, 18, 45.5, 55, 8, 14]\n",
            "\n",
            "11-O valor Maximo é 55, e valor Mínimo é 8 !\n"
          ]
        }
      ],
      "source": [
        "Lista=[]\n",
        "print('1-Lista vazia:_',Lista)\n",
        "\n",
        "Lista.insert(0,9)\n",
        "Lista.insert(1,45)\n",
        "Lista.insert(2,55)\n",
        "print('\\n2-Lista com 03 elementos:_',Lista)\n",
        "\n",
        "Lista.insert(1,18)\n",
        "print('\\n3-Lista com novo elemento na segunda posição:_',Lista)\n",
        "\n",
        "lista1=sum(Lista)\n",
        "print('\\n4-Soma dos 04 elementos da lista:_',lista1)\n",
        "\n",
        "Lista[2]=45.5\n",
        "print('\\n5-Novo terceiro elemento tipo float:_',Lista)\n",
        "\n",
        "lista1=sum(Lista)\n",
        "print('\\n6-Soma dos 04 elementos atuais da lista:_',lista1)\n",
        "\n",
        "Lista.reverse()\n",
        "print('\\n7-Inverter ordem dos elementos da lista:_', Lista)\n",
        "\n",
        "Lista.sort()\n",
        "print('\\n8-Reordenar dos elementos da lista:_', Lista)\n",
        "\n",
        "ListaNova=[8, 14]\n",
        "print('\\n9-Nova lista com 02 elementos inteiros:_', ListaNova)\n",
        "\n",
        "Lista=Lista + ListaNova\n",
        "print('\\n10-Lista nova com a adição da anterior e nova lista:_', Lista)\n",
        "\n",
        "max(Lista)\n",
        "min(Lista)\n",
        "print('\\n11-O valor Maximo é {}, e valor Mínimo é {} !'.format(max(Lista),min(Lista)))"
      ]
    },
    {
      "cell_type": "markdown",
      "metadata": {
        "id": "0Z5yLIA2hDW3"
      },
      "source": [
        "15 - Converta a string definida abaixo em uma lista de palavras, armazene a lista em uma variável. Dica: cheque as operações disponíveis para strings."
      ]
    },
    {
      "cell_type": "code",
      "execution_count": 44,
      "metadata": {
        "id": "ZBsyU1D7hDfA",
        "outputId": "17f49169-58ac-4828-e116-d31df36542c0",
        "colab": {
          "base_uri": "https://localhost:8080/"
        }
      },
      "outputs": [
        {
          "output_type": "stream",
          "name": "stdout",
          "text": [
            "frase = ['Formação', 'de', 'Recursos', 'Humanos', 'Qualificados', 'em', 'Inteligência', 'Artificial']\n"
          ]
        }
      ],
      "source": [
        "frase = \"Formação de Recursos Humanos Qualificados em Inteligência Artificial\"\n",
        "\n",
        "listfrase=frase.split(' ')\n",
        "print('frase =', listfrase)\n"
      ]
    },
    {
      "cell_type": "markdown",
      "metadata": {
        "id": "Ty3XskmQl95g"
      },
      "source": [
        "16 - Verifique se a palavra \"Humanos\" está contida na lista de palavras criada anteriormente. Exiba True ou False para indicar a resposta."
      ]
    },
    {
      "cell_type": "code",
      "execution_count": 47,
      "metadata": {
        "id": "qHQtRHw7l9_q",
        "outputId": "8ebf2286-ac1b-4b33-afc4-3aca1258e435",
        "colab": {
          "base_uri": "https://localhost:8080/"
        }
      },
      "outputs": [
        {
          "output_type": "execute_result",
          "data": {
            "text/plain": [
              "True"
            ]
          },
          "metadata": {},
          "execution_count": 47
        }
      ],
      "source": [
        "palavra='Humanos'\n",
        "procurar_palavra= palavra in listfrase\n",
        "procurar_palavra"
      ]
    },
    {
      "cell_type": "markdown",
      "metadata": {
        "id": "GJVq-7Fzo0Xo"
      },
      "source": [
        "17 - Crie automaticamente uma lista contendo 50 elementos de valor 3 e armazene-a em uma variável. Dica: utilize o operador de multiplicação."
      ]
    },
    {
      "cell_type": "code",
      "execution_count": 48,
      "metadata": {
        "id": "dORyLchqo0fE",
        "scrolled": true,
        "outputId": "07a61664-ed85-459d-8e8a-0c5f9c9ec3e9",
        "colab": {
          "base_uri": "https://localhost:8080/"
        }
      },
      "outputs": [
        {
          "output_type": "stream",
          "name": "stdout",
          "text": [
            "ListaAutomat=  [3, 3, 3, 3, 3, 3, 3, 3, 3, 3, 3, 3, 3, 3, 3, 3, 3, 3, 3, 3, 3, 3, 3, 3, 3, 3, 3, 3, 3, 3, 3, 3, 3, 3, 3, 3, 3, 3, 3, 3, 3, 3, 3, 3, 3, 3, 3, 3, 3, 3]\n"
          ]
        }
      ],
      "source": [
        "ListaAutomat=list([3]*50)\n",
        "print('ListaAutomat= ',ListaAutomat)"
      ]
    },
    {
      "cell_type": "markdown",
      "metadata": {
        "id": "tjXYlf9drhd-"
      },
      "source": [
        "### Tuplas"
      ]
    },
    {
      "cell_type": "markdown",
      "metadata": {
        "id": "mK1S6LhTx8NT"
      },
      "source": [
        "18 - Converta a lista resultante da primeira questão sobre Listas para uma tupla e exiba o tipo de dados do objeto criado. Após realizar o casting, utilize a indexação para exibir todos os elementos com exceção do primeiro e último."
      ]
    },
    {
      "cell_type": "code",
      "execution_count": 49,
      "metadata": {
        "id": "VRRDYbbAx7ti",
        "outputId": "a20ebab7-4cbb-4c78-b095-80e9348b5919",
        "colab": {
          "base_uri": "https://localhost:8080/"
        }
      },
      "outputs": [
        {
          "output_type": "stream",
          "name": "stdout",
          "text": [
            "1-ListaHumanos = ('H', 'u', 'm', 'a', 'n', 'o', 's')\n",
            "\n",
            "2 -ListaHumanos_index[1:6] =  ('u', 'm', 'a', 'n', 'o')\n"
          ]
        }
      ],
      "source": [
        "palavra='Humanos'\n",
        "palavra=tuple(palavra)\n",
        "\n",
        "print('1-ListaHumanos =',palavra) # lista [] para tupla()\n",
        "\n",
        "print('\\n2 -ListaHumanos_index[1:6] = ',palavra[1:6]) # tupla sem o primeiro e o ultimo elemento\n",
        "\n"
      ]
    },
    {
      "cell_type": "markdown",
      "metadata": {
        "id": "ItO6S8D2_FlO"
      },
      "source": [
        "19 - Exiba os atributos/métodos disponíveis a partir objetos do tipo lista e tuple utilizados na questão anterior. Dica: utilize o método dir."
      ]
    },
    {
      "cell_type": "code",
      "execution_count": 50,
      "metadata": {
        "id": "eZ-QZUaq_Fr4",
        "outputId": "8cd1a602-2eda-4b66-aa61-2423761a4d50",
        "colab": {
          "base_uri": "https://localhost:8080/"
        }
      },
      "outputs": [
        {
          "output_type": "stream",
          "name": "stdout",
          "text": [
            "ATRIBUTOS/ METODOS TIPO LISTA=\n",
            " ['__add__', '__class__', '__class_getitem__', '__contains__', '__delattr__', '__delitem__', '__dir__', '__doc__', '__eq__', '__format__', '__ge__', '__getattribute__', '__getitem__', '__gt__', '__hash__', '__iadd__', '__imul__', '__init__', '__init_subclass__', '__iter__', '__le__', '__len__', '__lt__', '__mul__', '__ne__', '__new__', '__reduce__', '__reduce_ex__', '__repr__', '__reversed__', '__rmul__', '__setattr__', '__setitem__', '__sizeof__', '__str__', '__subclasshook__', 'append', 'clear', 'copy', 'count', 'extend', 'index', 'insert', 'pop', 'remove', 'reverse', 'sort']\n"
          ]
        }
      ],
      "source": [
        "Palavralista= list(palavra)\n",
        "\n",
        "print('ATRIBUTOS/ METODOS TIPO LISTA=\\n',dir(Palavralista))"
      ]
    },
    {
      "cell_type": "code",
      "execution_count": 51,
      "metadata": {
        "id": "2ja_yKmf81wt",
        "outputId": "20f49d2a-6dde-42d2-f8eb-c85c77df72a7",
        "colab": {
          "base_uri": "https://localhost:8080/"
        }
      },
      "outputs": [
        {
          "output_type": "execute_result",
          "data": {
            "text/plain": [
              "list"
            ]
          },
          "metadata": {},
          "execution_count": 51
        }
      ],
      "source": [
        "type(Palavralista)"
      ]
    },
    {
      "cell_type": "code",
      "execution_count": 52,
      "metadata": {
        "id": "BOYP_Rppkeuf",
        "outputId": "9074f127-0c93-43ea-de6a-5bad7a369637",
        "colab": {
          "base_uri": "https://localhost:8080/"
        }
      },
      "outputs": [
        {
          "output_type": "stream",
          "name": "stdout",
          "text": [
            "ATRIBUTOS/ METODOS TIPO TUPLA=\n",
            " ['__add__', '__class__', '__class_getitem__', '__contains__', '__delattr__', '__dir__', '__doc__', '__eq__', '__format__', '__ge__', '__getattribute__', '__getitem__', '__getnewargs__', '__gt__', '__hash__', '__init__', '__init_subclass__', '__iter__', '__le__', '__len__', '__lt__', '__mul__', '__ne__', '__new__', '__reduce__', '__reduce_ex__', '__repr__', '__rmul__', '__setattr__', '__sizeof__', '__str__', '__subclasshook__', 'count', 'index']\n"
          ]
        }
      ],
      "source": [
        "Palavratupla= tuple(palavra)\n",
        "\n",
        "print('ATRIBUTOS/ METODOS TIPO TUPLA=\\n', dir(Palavratupla))"
      ]
    },
    {
      "cell_type": "code",
      "execution_count": 53,
      "metadata": {
        "id": "G-GnJykZ81wv",
        "outputId": "422960a4-8e2e-4fbb-a9f6-48a277c01e7e",
        "colab": {
          "base_uri": "https://localhost:8080/"
        }
      },
      "outputs": [
        {
          "output_type": "execute_result",
          "data": {
            "text/plain": [
              "tuple"
            ]
          },
          "metadata": {},
          "execution_count": 53
        }
      ],
      "source": [
        "type(Palavratupla)"
      ]
    },
    {
      "cell_type": "markdown",
      "metadata": {
        "id": "WcNsS_C4keuf"
      },
      "source": [
        "20 - Crie uma tupla contendo 5 números inteiros quaisquer. Em seguida, exiba o valor máximo e o valor mínimo da tupla criada."
      ]
    },
    {
      "cell_type": "code",
      "execution_count": 54,
      "metadata": {
        "id": "2RzkGRUSkeuf",
        "outputId": "913114b7-bed4-499d-8874-4a6f7fda0869",
        "colab": {
          "base_uri": "https://localhost:8080/"
        }
      },
      "outputs": [
        {
          "output_type": "stream",
          "name": "stdout",
          "text": [
            "A tupla= (9, 42, 45, 47, 55), apresenta valores Maximo:55, e valor Mínimo:9.\n"
          ]
        }
      ],
      "source": [
        "tuplaF=(9,42,45,47,55)\n",
        "tuplaF\n",
        "max(tuplaF)\n",
        "min(tuplaF)\n",
        "print('A tupla= {}, apresenta valores Maximo:{}, e valor Mínimo:{}.'.format(tuplaF,max(tuplaF),min(tuplaF)))"
      ]
    },
    {
      "cell_type": "markdown",
      "metadata": {
        "id": "BaCwt9hTrafF"
      },
      "source": [
        "### Dicionários"
      ]
    },
    {
      "cell_type": "markdown",
      "metadata": {
        "id": "lSpj33z39Wej"
      },
      "source": [
        "21 - A partir do dicionário inicializado abaixo com quatro items, adicione três novos items com chaves \"three\", \"four\" e \"five\" e valores \"três\", \"quatro\" e \"cinco\"."
      ]
    },
    {
      "cell_type": "code",
      "execution_count": 55,
      "metadata": {
        "id": "3Bomk_PZ9W2g",
        "outputId": "c146cac6-a537-436c-ea90-0af6c7db3402",
        "colab": {
          "base_uri": "https://localhost:8080/"
        }
      },
      "outputs": [
        {
          "output_type": "stream",
          "name": "stdout",
          "text": [
            "my_dict = {'one': 'um', 'two': 'dois', (1, 2): ['um', 'dois'], 1.3: 'um ponto três', 'three': 'três', 'four': 'quatro', 'five': 'cinco'}\n"
          ]
        }
      ],
      "source": [
        "my_dict = {}\n",
        "my_dict[\"one\"] = \"um\"\n",
        "my_dict[\"two\"] = \"dois\"\n",
        "my_dict[(1,2)] = [\"um\",\"dois\"]\n",
        "my_dict[1.3] = \"um ponto três\"\n",
        "\n",
        "my_dict[\"three\"] = \"três\"\n",
        "my_dict[\"four\"] = \"quatro\"\n",
        "my_dict[\"five\"] = \"cinco\"\n",
        "\n",
        "#my_dict['three','four','five'] = ['três','quatro', 'cinco']\n",
        "\n",
        "\n",
        "print('my_dict =', my_dict)"
      ]
    },
    {
      "cell_type": "markdown",
      "metadata": {
        "id": "OeNmt-tkkeug"
      },
      "source": [
        "22 - A partir do dicionário definido anteriormente, remova o item (\"one\", \"um\") do dicionário."
      ]
    },
    {
      "cell_type": "code",
      "execution_count": 56,
      "metadata": {
        "id": "c9M3-BZ8keug",
        "outputId": "d282191e-391b-4637-8def-75b4c4d53f6b",
        "colab": {
          "base_uri": "https://localhost:8080/"
        }
      },
      "outputs": [
        {
          "output_type": "stream",
          "name": "stdout",
          "text": [
            "my_dict = {'two': 'dois', (1, 2): ['um', 'dois'], 1.3: 'um ponto três', 'three': 'três', 'four': 'quatro', 'five': 'cinco'}\n"
          ]
        }
      ],
      "source": [
        "del my_dict['one']\n",
        "print('my_dict =', my_dict)"
      ]
    },
    {
      "cell_type": "markdown",
      "metadata": {
        "id": "Pl1J-LIM9XHl"
      },
      "source": [
        "23 - A partir do dicionário definido anteriormente, realize as seguintes operações ordenadamente.\n",
        "\n",
        "1.   Exiba a quantidade de items do dicionário.\n",
        "2.   Gere automaticamente uma lista contendo as  chaves do dicionário.\n",
        "3.   Gere automaticamente uma lista contendo os valores do dicionário.\n",
        "4.   Gere automaticamente uma lista composta por tuplas do tipo (chave, valor).\n",
        "5.   Remova os items cuja chaves são (1,2) e 1.3.\n",
        "6.   Exiba o dicionário final\n",
        "\n",
        "\n",
        "\n",
        "\n",
        "\n"
      ]
    },
    {
      "cell_type": "code",
      "execution_count": 57,
      "metadata": {
        "id": "z79IZcHzkeuh",
        "outputId": "7888d24a-94b1-45a2-93e5-40f46ed30ce5",
        "colab": {
          "base_uri": "https://localhost:8080/"
        }
      },
      "outputs": [
        {
          "output_type": "stream",
          "name": "stdout",
          "text": [
            "1:Exiba a quantidade de items do dicionário:\n",
            " R= 6\n",
            "\n",
            "2:Gere automaticamente uma lista contendo as chaves do dicionário:\n",
            " R= ListaChave= ['two', (1, 2), 1.3, 'three', 'four', 'five']\n",
            "\n",
            "3:Gere automaticamente uma lista contendo os valores do dicionário:\n",
            " R=ListaValor= ['dois', ['um', 'dois'], 'um ponto três', 'três', 'quatro', 'cinco']\n",
            "\n",
            "4:Gere automaticamente uma lista composta por tuplas do tipo (chave, valor):\n",
            " R=ListaTupla=[('two', 'dois'), ((1, 2), ['um', 'dois']), (1.3, 'um ponto três'), ('three', 'três'), ('four', 'quatro'), ('five', 'cinco')]\n",
            "\n",
            "5 e 6 : Remova os items cuja chaves são (1,2) e 1.3, e Exiba o dicionário final:\n",
            " R= my_dict {'two': 'dois', 'three': 'três', 'four': 'quatro', 'five': 'cinco'}\n"
          ]
        }
      ],
      "source": [
        "\n",
        "# Passo 1:Exiba a quantidade de items do dicionário.\n",
        "\n",
        "print('1:Exiba a quantidade de items do dicionário:\\n R=',len(my_dict))\n",
        "\n",
        "# Passo 2:Gere automaticamente uma lista contendo as chaves do dicionário.\n",
        "print('\\n2:Gere automaticamente uma lista contendo as chaves do dicionário:\\n R= ListaChave=',list(my_dict.keys()))\n",
        "\n",
        "# Passo 3:print('1:Exiba a quantidade de items do dicionário: \n",
        "#my_dict.values()\n",
        "print('\\n3:Gere automaticamente uma lista contendo os valores do dicionário:\\n R=ListaValor=',list(my_dict.values()))\n",
        "\n",
        "ListaTupla = list(my_dict.items())\n",
        "\n",
        "# Passo 4:Gere automaticamente uma lista composta por tuplas do tipo (chave, valor).\n",
        "print('\\n4:Gere automaticamente uma lista composta por tuplas do tipo (chave, valor):\\n R=ListaTupla={}\\n'.format(ListaTupla))\n",
        "\n",
        "#listamydict=list(my_dict)\n",
        "#listamydict\n",
        "#tupladic=tuple((x,y) for x, y in my_dict)\n",
        "\n",
        "# Passo 5:Remova os items cuja chaves são (1,2) e 1.3.\n",
        "del my_dict[(1,2)]\n",
        "del my_dict[1.3]\n",
        "\n",
        "print('5 e 6 : Remova os items cuja chaves são (1,2) e 1.3, e Exiba o dicionário final:\\n R= my_dict',my_dict)\n",
        "\n",
        "# Passo 6:Exiba o dicionário final"
      ]
    },
    {
      "cell_type": "markdown",
      "metadata": {
        "id": "iNDUUfFPqNsC"
      },
      "source": [
        "24 - A partir dos dicionários '*en*' e '*pt_br*' definidos abaixo, crie um terceiro dicionário denominado '*translator*' cujas chaves são, respectivamente, 'en' e 'pt_br' e os valores sejam os dicionários correspondentes. Exiba o dicionário criado."
      ]
    },
    {
      "cell_type": "code",
      "execution_count": 58,
      "metadata": {
        "id": "iIv7lR8zqNy1",
        "outputId": "80bcf29f-0420-4ce7-bcdf-52b79bcb38a3",
        "colab": {
          "base_uri": "https://localhost:8080/"
        }
      },
      "outputs": [
        {
          "output_type": "stream",
          "name": "stdout",
          "text": [
            "translator = {'en': {1: 'one', 2: 'two', 3: 'three'}, 'pt_br': {1: 'um', 2: 'dois', 3: 'tres'}}\n"
          ]
        }
      ],
      "source": [
        "pt_br = {1:\"um\", 2:\"dois\", 3:\"tres\"}\n",
        "en = {1:\"one\", 2:\"two\", 3:\"three\"}\n",
        "\n",
        "translator={'en':en, 'pt_br':pt_br}\n",
        "print('translator =',translator)\n"
      ]
    },
    {
      "cell_type": "markdown",
      "metadata": {
        "id": "cK-nN01LpxwW"
      },
      "source": [
        "### Estruturas de Decisão"
      ]
    },
    {
      "cell_type": "markdown",
      "metadata": {
        "id": "PDkLty8ayY9p"
      },
      "source": [
        "25 - Utilize estruturas de decisão se-senão para construir um script que simule a árvore de decisão disposta na figura abaixo. Para cada nó da árvore, o usuário deve fornecer um valor a ser armazenado em uma variável e utilizado para verificar o fluxo que deve ser seguido até atingir uma das folha, exibindo algum dos valores \"Opção 1\", \"Opção 2\" ou \"Opção 3\".\n",
        "\n",
        "\n",
        "![alt text](https://docs.google.com/uc?export=download&id=1i5518GVTI9vh3proj3C1dblBXOJtHAvP)"
      ]
    },
    {
      "cell_type": "code",
      "execution_count": 60,
      "metadata": {
        "id": "YjVkjZGCyZAi",
        "outputId": "fb7433d5-e1be-4f93-8108-d14c980440af",
        "colab": {
          "base_uri": "https://localhost:8080/"
        }
      },
      "outputs": [
        {
          "output_type": "stream",
          "name": "stdout",
          "text": [
            " ATENÇÃO:Informe um valor não inteiro para as variaveis X1, X2, X3 e X4,para saber as Opções (1,2,3) escolhidas,\n",
            " a partir dos valores computados:\n",
            "\n",
            " Informe um valor para a variavel X1:2\n",
            "Informe um valor para a variavel X2:3\n",
            "Informe um valor para a variavel X3:5\n",
            "Você escolheu: Opção2!\n"
          ]
        }
      ],
      "source": [
        "NOTA =' ATENÇÃO:Informe um valor não inteiro para as variaveis X1, X2, X3 e X4,'\n",
        "NOTA2 = 'para saber as Opções (1,2,3) escolhidas,\\n a partir dos valores computados:\\n'\n",
        "\n",
        "\n",
        "x1 = input('{}{}\\n Informe um valor para a variavel X1:'.format(NOTA, NOTA2))\n",
        "if (float(x1) > 3.77):\n",
        "    print('Você escolheu: Opção1!')\n",
        "else:\n",
        "    x2 = input('Informe um valor para a variavel X2:')\n",
        "    if (float(x2) > 0.5):\n",
        "        x3 = input('Informe um valor para a variavel X3:')\n",
        "        if (float(x3) >= 0.78):\n",
        "            print(\"Você escolheu: Opção2!\")\n",
        "        else:\n",
        "            print(\"Você escolheu: Opção1!\")\n",
        "    else:\n",
        "        x4 = input('Informe um valor para a variavel X4:')\n",
        "        if (float(x4) > 0.25 and float(x4) < 0.5):\n",
        "            print(\"Você escolheu: Opção1!\")\n",
        "        elif (float(x4) > 0.5 or float(x4) <= 0.25):\n",
        "            print(\"Você escolheu: Opção2!\")\n",
        "        else:\n",
        "            print(\"Você escolheu: Opção3!\")\n",
        "    "
      ]
    },
    {
      "cell_type": "markdown",
      "metadata": {
        "id": "b-Td-fgNp2HM"
      },
      "source": [
        "### Estruturas de Repetição\n",
        "\n",
        "for (with range), while, list comprehension"
      ]
    },
    {
      "cell_type": "markdown",
      "metadata": {
        "id": "mIhOW0di8iZh"
      },
      "source": [
        "26 - Crie um programa que receba do usuário uma entrada referente a string \"Please, type 'q' to quit\". Enquanto o usuário não digitar o caractere 'q', o programa deve exibir \"Sorry, try again.\" e continuar solicitando a informação. Dica: utilize o comando break para interrupção."
      ]
    },
    {
      "cell_type": "code",
      "execution_count": 62,
      "metadata": {
        "id": "BKxPv3BB8ihm",
        "colab": {
          "base_uri": "https://localhost:8080/"
        },
        "outputId": "49c5fd86-c733-4829-a435-aaa7f06df0bf"
      },
      "outputs": [
        {
          "output_type": "stream",
          "name": "stdout",
          "text": [
            "Informe uma letra que falta para completar a frase:\"Please, type \"X\" to quit\":x\n",
            "\"Sorry, try again.\" \n",
            "Informe uma letra que falta para completar a frase:\"Please, type \"X\" to quit\":c\n",
            "\"Sorry, try again.\" \n",
            "Informe uma letra que falta para completar a frase:\"Please, type \"X\" to quit\":q\n",
            "Parabéns! acertou!\n"
          ]
        }
      ],
      "source": [
        "while True:\n",
        "    opcaodada=input('Informe uma letra que falta para completar a frase:\"Please, type \"X\" to quit\":')\n",
        "        \n",
        "    if opcaodada!='q':\n",
        "        print('\"Sorry, try again.\" ')\n",
        "        \n",
        "    else:\n",
        "        print('Parabéns! acertou!')\n",
        "        break"
      ]
    },
    {
      "cell_type": "markdown",
      "metadata": {
        "id": "nnA67LDY8iqI"
      },
      "source": [
        "27 - Crie um programa que imprima apenas os números ímpares entre 1 e 100."
      ]
    },
    {
      "cell_type": "code",
      "execution_count": 63,
      "metadata": {
        "id": "2_x3vAUe8izO",
        "outputId": "e32b86c1-6971-47ea-f179-967960ad3a33",
        "colab": {
          "base_uri": "https://localhost:8080/"
        }
      },
      "outputs": [
        {
          "output_type": "stream",
          "name": "stdout",
          "text": [
            "Os valores impares do internvalo de 1 a 100 são:\n",
            "1,3,5,7,9,11,13,15,17,19,21,23,25,27,29,31,33,35,37,39,41,43,45,47,49,51,53,55,57,59,61,63,65,67,69,71,73,75,77,79,81,83,85,87,89,91,93,95,97,99,"
          ]
        }
      ],
      "source": [
        "print('Os valores impares do internvalo de 1 a 100 são:')\n",
        "start, end= 1, 100\n",
        "for num in range(start, end+1):\n",
        "    if num %2!=0:\n",
        "                print(num,end=\",\")\n"
      ]
    },
    {
      "cell_type": "markdown",
      "metadata": {
        "id": "m0QJ9fIe7rOl"
      },
      "source": [
        "28 - A partir da lista definida abaixo, crie uma nova lista contendo apenas os números negativos. Dica: considere utilizar o modo list comprehension."
      ]
    },
    {
      "cell_type": "code",
      "execution_count": 64,
      "metadata": {
        "id": "CHAeZEOw7rWc",
        "outputId": "05cd4b28-7d10-486f-c0b9-b59a7b081065",
        "colab": {
          "base_uri": "https://localhost:8080/"
        }
      },
      "outputs": [
        {
          "output_type": "stream",
          "name": "stdout",
          "text": [
            "Nova Lista de números menores negativos: [-6, -22, -17, -21, -11]\n"
          ]
        }
      ],
      "source": [
        "lista = [-6, 21, -22, 4, -17, -21, 22, -11, 3, 28]\n",
        "ListaNova = lista\n",
        "print('Nova Lista de números menores negativos:',[x for x in ListaNova if x < 0])\n"
      ]
    },
    {
      "cell_type": "markdown",
      "metadata": {
        "id": "U_aYQhC5LPXi"
      },
      "source": [
        "29 - Converta a string definida abaixo em uma lista de palavras. Em seguida, crie um dicionário cujas chaves são as palavras contidas no texto e os valores representem a quantidade de ocorrências da palavra em questão.\n",
        "\n",
        "\n"
      ]
    },
    {
      "cell_type": "code",
      "execution_count": 65,
      "metadata": {
        "id": "EW3G73kBLQD_",
        "colab": {
          "base_uri": "https://localhost:8080/"
        },
        "outputId": "55dd597c-d5e8-4ed0-bfd2-ae09ff890747"
      },
      "outputs": [
        {
          "output_type": "stream",
          "name": "stdout",
          "text": [
            "DicLista=\n",
            " {'lorem': 3, 'ipsum': 3, 'dolor': 3, 'sit': 4, 'amet': 4, 'consectetur': 3, 'adipiscing': 3, 'elit': 4, 'maecenas': 1, 'maximus': 2, 'consequat': 1, 'libero': 2, 'sed': 2, 'eleifend': 1, 'mauris': 2, 'pulvinar': 1, 'quam': 1, 'pharetra': 2, 'est': 2, 'efficitur': 1, 'tincidunt': 1, 'neque': 3, 'cursus': 2, 'ante': 2, 'vehicula': 1, 'viverra': 2, 'nullam': 1, 'lobortis': 1, 'ut': 2, 'lacinia': 1, 'in': 2, 'euismod': 1, 'non': 1, 'purus': 4, 'quisque': 1, 'egestas': 2, 'pellentesque': 3, 'nulla': 2, 'eget': 1, 'sem': 2, 'felis': 1, 'bibendum': 1, 'hendrerit': 1, 'varius': 1, 'dapibus': 1, 'blandit': 1, 'nunc': 1, 'fermentum': 1, 'id': 2, 'risus': 2, 'vel': 1, 'suscipit': 1, 'aenean': 1, 'laoreet': 1, 'posuere': 1, 'ac': 1, 'vitae': 2, 'finibus': 1, 'tempor': 1, 'magna': 1, 'a': 3, 'iaculis': 1, 'ex': 1, 'scelerisque': 1, 'quis': 1, 'volutpat': 1, 'metus': 1, 'molestie': 1, 'porta': 1, 'praesent': 1, 'odio': 1, 'auctor': 1, 'porttitor': 1}\n"
          ]
        }
      ],
      "source": [
        "\n",
        "import re \n",
        "\n",
        "texto = '''\n",
        "Lorem ipsum dolor sit amet, consectetur adipiscing elit. Maecenas maximus consequat libero sed eleifend. Mauris pulvinar quam pharetra \n",
        "est efficitur maximus. Mauris tincidunt neque cursus ante vehicula viverra. Nullam neque neque, lobortis ut lacinia in, euismod non purus. \n",
        "Quisque egestas pellentesque nulla eget egestas. In sem felis, pellentesque bibendum hendrerit varius, dapibus blandit libero. Nunc \n",
        "fermentum id risus vel suscipit. Aenean laoreet posuere purus ac viverra. Sed vitae sem finibus, tempor magna a, iaculis ex. Pellentesque \n",
        "sit amet scelerisque purus, quis volutpat ante. Lorem ipsum dolor sit amet, consectetur adipiscing elit. Nulla cursus est metus, vitae \n",
        "molestie elit porta a. Praesent pharetra odio id purus auctor porttitor a ut risus. Lorem ipsum dolor sit amet, consectetur adipiscing elit.\n",
        "'''\n",
        "Texto=texto.lower()                      \n",
        "\n",
        "novotexto = re.sub(r'[^\\w\\s]','',Texto)   \n",
        "                                            \n",
        "\n",
        "listatexto = novotexto.split()           \n",
        "\n",
        "DicLista={}\n",
        "\n",
        "for a in listatexto:\n",
        "    DicLista[a]=listatexto.count(a)        \n",
        "    \n",
        "\n",
        "print('DicLista=\\n',DicLista)\n",
        "\n"
      ]
    },
    {
      "cell_type": "markdown",
      "metadata": {
        "id": "KEmS5Nr-otZR"
      },
      "source": [
        "30 - Imprima o dicionário gerado no passo anterior seguindo uma ordem alfabética. \n",
        "\n",
        "Dicas: \n",
        "1. Python já possui uma função built-in ordenação de listas\n",
        "2. É possível utilizar uma estrutura de repetição para construir um novo dicionário."
      ]
    },
    {
      "cell_type": "code",
      "execution_count": 66,
      "metadata": {
        "id": "dcPK7SXzotiB",
        "outputId": "69cc3894-851f-4503-debc-d6e089e741e5",
        "colab": {
          "base_uri": "https://localhost:8080/"
        }
      },
      "outputs": [
        {
          "output_type": "execute_result",
          "data": {
            "text/plain": [
              "[('a', 3),\n",
              " ('ac', 1),\n",
              " ('adipiscing', 3),\n",
              " ('aenean', 1),\n",
              " ('amet', 4),\n",
              " ('ante', 2),\n",
              " ('auctor', 1),\n",
              " ('bibendum', 1),\n",
              " ('blandit', 1),\n",
              " ('consectetur', 3),\n",
              " ('consequat', 1),\n",
              " ('cursus', 2),\n",
              " ('dapibus', 1),\n",
              " ('dolor', 3),\n",
              " ('efficitur', 1),\n",
              " ('egestas', 2),\n",
              " ('eget', 1),\n",
              " ('eleifend', 1),\n",
              " ('elit', 4),\n",
              " ('est', 2),\n",
              " ('euismod', 1),\n",
              " ('ex', 1),\n",
              " ('felis', 1),\n",
              " ('fermentum', 1),\n",
              " ('finibus', 1),\n",
              " ('hendrerit', 1),\n",
              " ('iaculis', 1),\n",
              " ('id', 2),\n",
              " ('in', 2),\n",
              " ('ipsum', 3),\n",
              " ('lacinia', 1),\n",
              " ('laoreet', 1),\n",
              " ('libero', 2),\n",
              " ('lobortis', 1),\n",
              " ('lorem', 3),\n",
              " ('maecenas', 1),\n",
              " ('magna', 1),\n",
              " ('mauris', 2),\n",
              " ('maximus', 2),\n",
              " ('metus', 1),\n",
              " ('molestie', 1),\n",
              " ('neque', 3),\n",
              " ('non', 1),\n",
              " ('nulla', 2),\n",
              " ('nullam', 1),\n",
              " ('nunc', 1),\n",
              " ('odio', 1),\n",
              " ('pellentesque', 3),\n",
              " ('pharetra', 2),\n",
              " ('porta', 1),\n",
              " ('porttitor', 1),\n",
              " ('posuere', 1),\n",
              " ('praesent', 1),\n",
              " ('pulvinar', 1),\n",
              " ('purus', 4),\n",
              " ('quam', 1),\n",
              " ('quis', 1),\n",
              " ('quisque', 1),\n",
              " ('risus', 2),\n",
              " ('scelerisque', 1),\n",
              " ('sed', 2),\n",
              " ('sem', 2),\n",
              " ('sit', 4),\n",
              " ('suscipit', 1),\n",
              " ('tempor', 1),\n",
              " ('tincidunt', 1),\n",
              " ('ut', 2),\n",
              " ('varius', 1),\n",
              " ('vehicula', 1),\n",
              " ('vel', 1),\n",
              " ('vitae', 2),\n",
              " ('viverra', 2),\n",
              " ('volutpat', 1)]"
            ]
          },
          "metadata": {},
          "execution_count": 66
        }
      ],
      "source": [
        "sorted(DicLista.items())\n",
        "\n"
      ]
    },
    {
      "cell_type": "markdown",
      "metadata": {
        "id": "ix_iQWRj21d-"
      },
      "source": [
        "31 - Na lista 'colors' definida abaixo têm-se três tipos diferentes de cores. A partir dela, crie uma nova lista na qual cada string deve assumir uma lista com valores inteiros seguindo uma estratégia binária da seguinte forma:\n",
        "\n",
        "```\n",
        "red,\tgreen,\tblue\n",
        "[1,\t\t0,\t\t0]\n",
        "[0,\t\t1,\t\t0]\n",
        "[0,\t\t0,\t\t1]\n",
        "\n",
        "```\n",
        "\n",
        "Dica: crie uma lista com os três possíveis valores e utilize a posição do elemento.\n",
        "\n"
      ]
    },
    {
      "cell_type": "code",
      "execution_count": 69,
      "metadata": {
        "id": "KURP5igH81w5",
        "outputId": "6a9944ce-139a-497a-b974-2749345f5fd6",
        "colab": {
          "base_uri": "https://localhost:8080/"
        }
      },
      "outputs": [
        {
          "output_type": "stream",
          "name": "stdout",
          "text": [
            "Resposta Lista cores com Valores :\n",
            "colors2 =[[0, 0, 1], [0, 0, 1], [0, 1, 0], [0, 0, 1], [1, 0, 0], [1, 0, 0], [0, 1, 0], [0, 0, 1], [0, 1, 0], [1, 0, 0]]\n"
          ]
        }
      ],
      "source": [
        "colors = ['blue', 'blue', 'green', 'blue', 'red', 'red', 'green', 'blue', 'green', 'red']\n",
        "colors2 = colors.copy()\n",
        "for i in range(len(colors)):\n",
        "    if colors2[i] == 'red':\n",
        "        colors2[i] = [1,0,0]\n",
        "    elif colors2[i] == 'green':\n",
        "        colors2[i] = [0,1,0]\n",
        "    elif colors2[i] == 'blue':\n",
        "        colors2[i] = [0,0,1]\n",
        "print('Resposta Lista cores com Valores :\\ncolors2 ={}'.format(colors2))\n"
      ]
    },
    {
      "cell_type": "markdown",
      "metadata": {
        "id": "BWeuTJxZpOuG"
      },
      "source": [
        "32 - A partir da lista resultante da questão imediatamente anterior,  reverta o processo e retorne uma lista contendo as strings 'blue', 'green' e 'red'."
      ]
    },
    {
      "cell_type": "code",
      "execution_count": 70,
      "metadata": {
        "id": "C12-oQ27pO8x",
        "outputId": "fe339588-3e7f-4dd2-a0a9-6d0ecceed9e7",
        "colab": {
          "base_uri": "https://localhost:8080/"
        }
      },
      "outputs": [
        {
          "output_type": "stream",
          "name": "stdout",
          "text": [
            "Resposta Lista cores retorno :\n",
            "colors22 =['blue', 'blue', 'green', 'blue', 'red', 'red', 'green', 'blue', 'green', 'red']\n"
          ]
        }
      ],
      "source": [
        "colors22 = colors2.copy()\n",
        "for i in range(len(colors)):\n",
        "    if colors22[i] == [1,0,0]:\n",
        "        colors22[i] = 'red'\n",
        "    elif colors22[i] == [0,1,0]:\n",
        "        colors22[i] = 'green'\n",
        "    elif colors22[i] == [0,0,1]:\n",
        "        colors22[i] = 'blue'\n",
        "print('Resposta Lista cores retorno :\\ncolors22 ={}'.format(colors22))"
      ]
    }
  ],
  "metadata": {
    "colab": {
      "provenance": []
    },
    "kernelspec": {
      "display_name": "Python 3 (ipykernel)",
      "language": "python",
      "name": "python3"
    },
    "language_info": {
      "codemirror_mode": {
        "name": "ipython",
        "version": 3
      },
      "file_extension": ".py",
      "mimetype": "text/x-python",
      "name": "python",
      "nbconvert_exporter": "python",
      "pygments_lexer": "ipython3",
      "version": "3.9.12"
    }
  },
  "nbformat": 4,
  "nbformat_minor": 0
}